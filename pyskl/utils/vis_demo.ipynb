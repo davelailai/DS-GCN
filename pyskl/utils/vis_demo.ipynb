from visualize import Vis3DPose
vis = Vis3DPose()
vis.vis